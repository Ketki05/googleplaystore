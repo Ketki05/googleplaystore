{
 "cells": [
  {
   "cell_type": "markdown",
   "metadata": {},
   "source": [
    "    1. What is the download rate by categories?\n",
    "\n",
    "    2. What is the name of the 15 most downloaded applications? \n",
    "\n",
    "    3. What is the download rate for paid applications? \n",
    "\n",
    "    4. Sort by category.\n",
    "\n",
    "    5. What is the download rate and user rating by category?\n"
   ]
  },
  {
   "cell_type": "code",
   "execution_count": 1,
   "metadata": {},
   "outputs": [],
   "source": [
    "import numpy as np\n",
    "import pandas as pd"
   ]
  },
  {
   "cell_type": "code",
   "execution_count": 2,
   "metadata": {},
   "outputs": [],
   "source": [
    "import matplotlib.pyplot as plt\n",
    "import seaborn as sns\n",
    "%matplotlib inline"
   ]
  },
  {
   "cell_type": "code",
   "execution_count": 3,
   "metadata": {},
   "outputs": [],
   "source": [
    "from collections import Counter\n",
    "import warnings\n",
    "warnings.filterwarnings(\"ignore\")"
   ]
  },
  {
   "cell_type": "code",
   "execution_count": 9,
   "metadata": {},
   "outputs": [],
   "source": [
    "df = pd.read_csv('googleplaystore.csv')"
   ]
  },
  {
   "cell_type": "code",
   "execution_count": 5,
   "metadata": {},
   "outputs": [
    {
     "data": {
      "text/plain": [
       "Index(['App', 'Category', 'Rating', 'Reviews', 'Size', 'Installs', 'Type',\n",
       "       'Price', 'Content Rating', 'Genres', 'Last Updated', 'Current Ver',\n",
       "       'Android Ver'],\n",
       "      dtype='object')"
      ]
     },
     "execution_count": 5,
     "metadata": {},
     "output_type": "execute_result"
    }
   ],
   "source": [
    "df.columns"
   ]
  },
  {
   "cell_type": "code",
   "execution_count": 6,
   "metadata": {},
   "outputs": [
    {
     "data": {
      "text/html": [
       "<div>\n",
       "<style scoped>\n",
       "    .dataframe tbody tr th:only-of-type {\n",
       "        vertical-align: middle;\n",
       "    }\n",
       "\n",
       "    .dataframe tbody tr th {\n",
       "        vertical-align: top;\n",
       "    }\n",
       "\n",
       "    .dataframe thead th {\n",
       "        text-align: right;\n",
       "    }\n",
       "</style>\n",
       "<table border=\"1\" class=\"dataframe\">\n",
       "  <thead>\n",
       "    <tr style=\"text-align: right;\">\n",
       "      <th></th>\n",
       "      <th>App</th>\n",
       "      <th>Category</th>\n",
       "      <th>Rating</th>\n",
       "      <th>Reviews</th>\n",
       "      <th>Size</th>\n",
       "      <th>Installs</th>\n",
       "      <th>Type</th>\n",
       "      <th>Price</th>\n",
       "      <th>Content Rating</th>\n",
       "      <th>Genres</th>\n",
       "      <th>Last Updated</th>\n",
       "      <th>Current Ver</th>\n",
       "      <th>Android Ver</th>\n",
       "    </tr>\n",
       "  </thead>\n",
       "  <tbody>\n",
       "    <tr>\n",
       "      <th>0</th>\n",
       "      <td>Photo Editor &amp; Candy Camera &amp; Grid &amp; ScrapBook</td>\n",
       "      <td>ART_AND_DESIGN</td>\n",
       "      <td>4.1</td>\n",
       "      <td>159</td>\n",
       "      <td>19M</td>\n",
       "      <td>10,000+</td>\n",
       "      <td>Free</td>\n",
       "      <td>0</td>\n",
       "      <td>Everyone</td>\n",
       "      <td>Art &amp; Design</td>\n",
       "      <td>January 7, 2018</td>\n",
       "      <td>1.0.0</td>\n",
       "      <td>4.0.3 and up</td>\n",
       "    </tr>\n",
       "    <tr>\n",
       "      <th>1</th>\n",
       "      <td>Coloring book moana</td>\n",
       "      <td>ART_AND_DESIGN</td>\n",
       "      <td>3.9</td>\n",
       "      <td>967</td>\n",
       "      <td>14M</td>\n",
       "      <td>500,000+</td>\n",
       "      <td>Free</td>\n",
       "      <td>0</td>\n",
       "      <td>Everyone</td>\n",
       "      <td>Art &amp; Design;Pretend Play</td>\n",
       "      <td>January 15, 2018</td>\n",
       "      <td>2.0.0</td>\n",
       "      <td>4.0.3 and up</td>\n",
       "    </tr>\n",
       "    <tr>\n",
       "      <th>2</th>\n",
       "      <td>U Launcher Lite – FREE Live Cool Themes, Hide ...</td>\n",
       "      <td>ART_AND_DESIGN</td>\n",
       "      <td>4.7</td>\n",
       "      <td>87510</td>\n",
       "      <td>8.7M</td>\n",
       "      <td>5,000,000+</td>\n",
       "      <td>Free</td>\n",
       "      <td>0</td>\n",
       "      <td>Everyone</td>\n",
       "      <td>Art &amp; Design</td>\n",
       "      <td>August 1, 2018</td>\n",
       "      <td>1.2.4</td>\n",
       "      <td>4.0.3 and up</td>\n",
       "    </tr>\n",
       "    <tr>\n",
       "      <th>3</th>\n",
       "      <td>Sketch - Draw &amp; Paint</td>\n",
       "      <td>ART_AND_DESIGN</td>\n",
       "      <td>4.5</td>\n",
       "      <td>215644</td>\n",
       "      <td>25M</td>\n",
       "      <td>50,000,000+</td>\n",
       "      <td>Free</td>\n",
       "      <td>0</td>\n",
       "      <td>Teen</td>\n",
       "      <td>Art &amp; Design</td>\n",
       "      <td>June 8, 2018</td>\n",
       "      <td>Varies with device</td>\n",
       "      <td>4.2 and up</td>\n",
       "    </tr>\n",
       "    <tr>\n",
       "      <th>4</th>\n",
       "      <td>Pixel Draw - Number Art Coloring Book</td>\n",
       "      <td>ART_AND_DESIGN</td>\n",
       "      <td>4.3</td>\n",
       "      <td>967</td>\n",
       "      <td>2.8M</td>\n",
       "      <td>100,000+</td>\n",
       "      <td>Free</td>\n",
       "      <td>0</td>\n",
       "      <td>Everyone</td>\n",
       "      <td>Art &amp; Design;Creativity</td>\n",
       "      <td>June 20, 2018</td>\n",
       "      <td>1.1</td>\n",
       "      <td>4.4 and up</td>\n",
       "    </tr>\n",
       "  </tbody>\n",
       "</table>\n",
       "</div>"
      ],
      "text/plain": [
       "                                                 App        Category  Rating  \\\n",
       "0     Photo Editor & Candy Camera & Grid & ScrapBook  ART_AND_DESIGN     4.1   \n",
       "1                                Coloring book moana  ART_AND_DESIGN     3.9   \n",
       "2  U Launcher Lite – FREE Live Cool Themes, Hide ...  ART_AND_DESIGN     4.7   \n",
       "3                              Sketch - Draw & Paint  ART_AND_DESIGN     4.5   \n",
       "4              Pixel Draw - Number Art Coloring Book  ART_AND_DESIGN     4.3   \n",
       "\n",
       "  Reviews  Size     Installs  Type Price Content Rating  \\\n",
       "0     159   19M      10,000+  Free     0       Everyone   \n",
       "1     967   14M     500,000+  Free     0       Everyone   \n",
       "2   87510  8.7M   5,000,000+  Free     0       Everyone   \n",
       "3  215644   25M  50,000,000+  Free     0           Teen   \n",
       "4     967  2.8M     100,000+  Free     0       Everyone   \n",
       "\n",
       "                      Genres      Last Updated         Current Ver  \\\n",
       "0               Art & Design   January 7, 2018               1.0.0   \n",
       "1  Art & Design;Pretend Play  January 15, 2018               2.0.0   \n",
       "2               Art & Design    August 1, 2018               1.2.4   \n",
       "3               Art & Design      June 8, 2018  Varies with device   \n",
       "4    Art & Design;Creativity     June 20, 2018                 1.1   \n",
       "\n",
       "    Android Ver  \n",
       "0  4.0.3 and up  \n",
       "1  4.0.3 and up  \n",
       "2  4.0.3 and up  \n",
       "3    4.2 and up  \n",
       "4    4.4 and up  "
      ]
     },
     "execution_count": 6,
     "metadata": {},
     "output_type": "execute_result"
    }
   ],
   "source": [
    "df.head()"
   ]
  },
  {
   "cell_type": "code",
   "execution_count": 7,
   "metadata": {},
   "outputs": [
    {
     "name": "stdout",
     "output_type": "stream",
     "text": [
      "<class 'pandas.core.frame.DataFrame'>\n",
      "RangeIndex: 10841 entries, 0 to 10840\n",
      "Data columns (total 13 columns):\n",
      "App               10841 non-null object\n",
      "Category          10841 non-null object\n",
      "Rating            9367 non-null float64\n",
      "Reviews           10841 non-null object\n",
      "Size              10841 non-null object\n",
      "Installs          10841 non-null object\n",
      "Type              10840 non-null object\n",
      "Price             10841 non-null object\n",
      "Content Rating    10840 non-null object\n",
      "Genres            10841 non-null object\n",
      "Last Updated      10841 non-null object\n",
      "Current Ver       10833 non-null object\n",
      "Android Ver       10838 non-null object\n",
      "dtypes: float64(1), object(12)\n",
      "memory usage: 1.1+ MB\n"
     ]
    }
   ],
   "source": [
    "df.info()"
   ]
  },
  {
   "cell_type": "code",
   "execution_count": 8,
   "metadata": {},
   "outputs": [
    {
     "data": {
      "text/plain": [
       "App                  0\n",
       "Category             0\n",
       "Rating            1474\n",
       "Reviews              0\n",
       "Size                 0\n",
       "Installs             0\n",
       "Type                 1\n",
       "Price                0\n",
       "Content Rating       1\n",
       "Genres               0\n",
       "Last Updated         0\n",
       "Current Ver          8\n",
       "Android Ver          3\n",
       "dtype: int64"
      ]
     },
     "execution_count": 8,
     "metadata": {},
     "output_type": "execute_result"
    }
   ],
   "source": [
    "df.isnull().sum()"
   ]
  },
  {
   "cell_type": "code",
   "execution_count": 9,
   "metadata": {},
   "outputs": [
    {
     "data": {
      "text/plain": [
       "Counter({'ART_AND_DESIGN': 65,\n",
       "         'AUTO_AND_VEHICLES': 85,\n",
       "         'BEAUTY': 53,\n",
       "         'BOOKS_AND_REFERENCE': 231,\n",
       "         'BUSINESS': 460,\n",
       "         'COMICS': 60,\n",
       "         'COMMUNICATION': 387,\n",
       "         'DATING': 234,\n",
       "         'EDUCATION': 156,\n",
       "         'ENTERTAINMENT': 149,\n",
       "         'EVENTS': 64,\n",
       "         'FINANCE': 366,\n",
       "         'FOOD_AND_DRINK': 127,\n",
       "         'HEALTH_AND_FITNESS': 341,\n",
       "         'HOUSE_AND_HOME': 88,\n",
       "         'LIBRARIES_AND_DEMO': 85,\n",
       "         'LIFESTYLE': 382,\n",
       "         'GAME': 1144,\n",
       "         'FAMILY': 1972,\n",
       "         'MEDICAL': 463,\n",
       "         'SOCIAL': 295,\n",
       "         'SHOPPING': 260,\n",
       "         'PHOTOGRAPHY': 335,\n",
       "         'SPORTS': 384,\n",
       "         'TRAVEL_AND_LOCAL': 258,\n",
       "         'TOOLS': 843,\n",
       "         'PERSONALIZATION': 392,\n",
       "         'PRODUCTIVITY': 424,\n",
       "         'PARENTING': 60,\n",
       "         'WEATHER': 82,\n",
       "         'VIDEO_PLAYERS': 175,\n",
       "         'NEWS_AND_MAGAZINES': 283,\n",
       "         'MAPS_AND_NAVIGATION': 137,\n",
       "         '1.9': 1})"
      ]
     },
     "execution_count": 9,
     "metadata": {},
     "output_type": "execute_result"
    }
   ],
   "source": [
    "Counter(df['Category'])"
   ]
  },
  {
   "cell_type": "code",
   "execution_count": 10,
   "metadata": {},
   "outputs": [],
   "source": [
    "# replace 1.9 => 0.0\n",
    "df.Category.replace(['1.9'],0.0,inplace=True)"
   ]
  },
  {
   "cell_type": "markdown",
   "metadata": {},
   "source": [
    "### Installs"
   ]
  },
  {
   "cell_type": "code",
   "execution_count": 11,
   "metadata": {},
   "outputs": [
    {
     "data": {
      "text/plain": [
       "Counter({'10,000+': 1054,\n",
       "         '500,000+': 539,\n",
       "         '5,000,000+': 752,\n",
       "         '50,000,000+': 289,\n",
       "         '100,000+': 1169,\n",
       "         '50,000+': 479,\n",
       "         '1,000,000+': 1579,\n",
       "         '10,000,000+': 1252,\n",
       "         '5,000+': 477,\n",
       "         '100,000,000+': 409,\n",
       "         '1,000,000,000+': 58,\n",
       "         '1,000+': 907,\n",
       "         '500,000,000+': 72,\n",
       "         '50+': 205,\n",
       "         '100+': 719,\n",
       "         '500+': 330,\n",
       "         '10+': 386,\n",
       "         '1+': 67,\n",
       "         '5+': 82,\n",
       "         '0+': 14,\n",
       "         '0': 1,\n",
       "         'Free': 1})"
      ]
     },
     "execution_count": 11,
     "metadata": {},
     "output_type": "execute_result"
    }
   ],
   "source": [
    "Counter(df['Installs'])"
   ]
  },
  {
   "cell_type": "code",
   "execution_count": 12,
   "metadata": {},
   "outputs": [],
   "source": [
    "# Replace Free to 0\n",
    "df.Installs.replace(['Free'],0,inplace=True)"
   ]
  },
  {
   "cell_type": "code",
   "execution_count": 13,
   "metadata": {},
   "outputs": [],
   "source": [
    "df['Installs'] = df['Installs'].str.replace('+','')"
   ]
  },
  {
   "cell_type": "code",
   "execution_count": 14,
   "metadata": {},
   "outputs": [],
   "source": [
    "df['Installs'] = df['Installs'].str.replace(',','')"
   ]
  },
  {
   "cell_type": "code",
   "execution_count": 15,
   "metadata": {},
   "outputs": [
    {
     "data": {
      "text/plain": [
       "Counter({'10000': 1054,\n",
       "         '500000': 539,\n",
       "         '5000000': 752,\n",
       "         '50000000': 289,\n",
       "         '100000': 1169,\n",
       "         '50000': 479,\n",
       "         '1000000': 1579,\n",
       "         '10000000': 1252,\n",
       "         '5000': 477,\n",
       "         '100000000': 409,\n",
       "         '1000000000': 58,\n",
       "         '1000': 907,\n",
       "         '500000000': 72,\n",
       "         '50': 205,\n",
       "         '100': 719,\n",
       "         '500': 330,\n",
       "         '10': 386,\n",
       "         '1': 67,\n",
       "         '5': 82,\n",
       "         '0': 15,\n",
       "         nan: 1})"
      ]
     },
     "execution_count": 15,
     "metadata": {},
     "output_type": "execute_result"
    }
   ],
   "source": [
    "Counter(df['Installs'])"
   ]
  },
  {
   "cell_type": "code",
   "execution_count": 16,
   "metadata": {},
   "outputs": [],
   "source": [
    "df['Installs'] = pd.to_numeric(df['Installs'])"
   ]
  },
  {
   "cell_type": "markdown",
   "metadata": {},
   "source": [
    "### Type"
   ]
  },
  {
   "cell_type": "code",
   "execution_count": 17,
   "metadata": {},
   "outputs": [
    {
     "data": {
      "text/plain": [
       "Counter({'Free': 10039, 'Paid': 800, nan: 1, '0': 1})"
      ]
     },
     "execution_count": 17,
     "metadata": {},
     "output_type": "execute_result"
    }
   ],
   "source": [
    "Counter(df['Type'])"
   ]
  },
  {
   "cell_type": "code",
   "execution_count": 18,
   "metadata": {},
   "outputs": [
    {
     "data": {
      "text/html": [
       "<div>\n",
       "<style scoped>\n",
       "    .dataframe tbody tr th:only-of-type {\n",
       "        vertical-align: middle;\n",
       "    }\n",
       "\n",
       "    .dataframe tbody tr th {\n",
       "        vertical-align: top;\n",
       "    }\n",
       "\n",
       "    .dataframe thead th {\n",
       "        text-align: right;\n",
       "    }\n",
       "</style>\n",
       "<table border=\"1\" class=\"dataframe\">\n",
       "  <thead>\n",
       "    <tr style=\"text-align: right;\">\n",
       "      <th></th>\n",
       "      <th>App</th>\n",
       "      <th>Category</th>\n",
       "      <th>Rating</th>\n",
       "      <th>Reviews</th>\n",
       "      <th>Size</th>\n",
       "      <th>Installs</th>\n",
       "      <th>Type</th>\n",
       "      <th>Price</th>\n",
       "      <th>Content Rating</th>\n",
       "      <th>Genres</th>\n",
       "      <th>Last Updated</th>\n",
       "      <th>Current Ver</th>\n",
       "      <th>Android Ver</th>\n",
       "    </tr>\n",
       "  </thead>\n",
       "  <tbody>\n",
       "    <tr>\n",
       "      <th>10472</th>\n",
       "      <td>Life Made WI-Fi Touchscreen Photo Frame</td>\n",
       "      <td>0</td>\n",
       "      <td>19.0</td>\n",
       "      <td>3.0M</td>\n",
       "      <td>1,000+</td>\n",
       "      <td>NaN</td>\n",
       "      <td>0</td>\n",
       "      <td>Everyone</td>\n",
       "      <td>NaN</td>\n",
       "      <td>February 11, 2018</td>\n",
       "      <td>1.0.19</td>\n",
       "      <td>4.0 and up</td>\n",
       "      <td>NaN</td>\n",
       "    </tr>\n",
       "  </tbody>\n",
       "</table>\n",
       "</div>"
      ],
      "text/plain": [
       "                                           App Category  Rating Reviews  \\\n",
       "10472  Life Made WI-Fi Touchscreen Photo Frame        0    19.0    3.0M   \n",
       "\n",
       "         Size  Installs Type     Price Content Rating             Genres  \\\n",
       "10472  1,000+       NaN    0  Everyone            NaN  February 11, 2018   \n",
       "\n",
       "      Last Updated Current Ver Android Ver  \n",
       "10472       1.0.19  4.0 and up         NaN  "
      ]
     },
     "execution_count": 18,
     "metadata": {},
     "output_type": "execute_result"
    }
   ],
   "source": [
    "df[df['Type']=='0']"
   ]
  },
  {
   "cell_type": "code",
   "execution_count": 19,
   "metadata": {},
   "outputs": [],
   "source": [
    "df['Type'].iloc[10472] = 'Free'"
   ]
  },
  {
   "cell_type": "code",
   "execution_count": 20,
   "metadata": {},
   "outputs": [],
   "source": [
    "df['Type'][df['Type'].isnull()] = 'Free'"
   ]
  },
  {
   "cell_type": "code",
   "execution_count": 21,
   "metadata": {},
   "outputs": [
    {
     "data": {
      "text/plain": [
       "Counter({'Free': 10041, 'Paid': 800})"
      ]
     },
     "execution_count": 21,
     "metadata": {},
     "output_type": "execute_result"
    }
   ],
   "source": [
    "Counter(df['Type'])"
   ]
  },
  {
   "cell_type": "markdown",
   "metadata": {},
   "source": [
    "### Size"
   ]
  },
  {
   "cell_type": "code",
   "execution_count": 22,
   "metadata": {},
   "outputs": [
    {
     "data": {
      "text/plain": [
       "Counter({'19M': 154,\n",
       "         '14M': 194,\n",
       "         '8.7M': 39,\n",
       "         '25M': 143,\n",
       "         '2.8M': 65,\n",
       "         '5.6M': 31,\n",
       "         '29M': 103,\n",
       "         '33M': 79,\n",
       "         '3.1M': 56,\n",
       "         '28M': 95,\n",
       "         '12M': 196,\n",
       "         '20M': 139,\n",
       "         '21M': 138,\n",
       "         '37M': 76,\n",
       "         '2.7M': 53,\n",
       "         '5.5M': 33,\n",
       "         '17M': 160,\n",
       "         '39M': 56,\n",
       "         '31M': 70,\n",
       "         '4.2M': 59,\n",
       "         '7.0M': 33,\n",
       "         '23M': 117,\n",
       "         '6.0M': 34,\n",
       "         '6.1M': 39,\n",
       "         '4.6M': 46,\n",
       "         '9.2M': 33,\n",
       "         '5.2M': 35,\n",
       "         '11M': 198,\n",
       "         '24M': 136,\n",
       "         'Varies with device': 1695,\n",
       "         '9.4M': 24,\n",
       "         '15M': 184,\n",
       "         '10M': 136,\n",
       "         '1.2M': 41,\n",
       "         '26M': 149,\n",
       "         '8.0M': 23,\n",
       "         '7.9M': 33,\n",
       "         '56M': 31,\n",
       "         '57M': 37,\n",
       "         '35M': 72,\n",
       "         '54M': 29,\n",
       "         '201k': 3,\n",
       "         '3.6M': 57,\n",
       "         '5.7M': 48,\n",
       "         '8.6M': 25,\n",
       "         '2.4M': 48,\n",
       "         '27M': 97,\n",
       "         '2.5M': 68,\n",
       "         '16M': 149,\n",
       "         '3.4M': 65,\n",
       "         '8.9M': 28,\n",
       "         '3.9M': 62,\n",
       "         '2.9M': 69,\n",
       "         '38M': 55,\n",
       "         '32M': 63,\n",
       "         '5.4M': 51,\n",
       "         '18M': 133,\n",
       "         '1.1M': 32,\n",
       "         '2.2M': 45,\n",
       "         '4.5M': 40,\n",
       "         '9.8M': 30,\n",
       "         '52M': 35,\n",
       "         '9.0M': 27,\n",
       "         '6.7M': 25,\n",
       "         '30M': 84,\n",
       "         '2.6M': 50,\n",
       "         '7.1M': 26,\n",
       "         '3.7M': 63,\n",
       "         '22M': 114,\n",
       "         '7.4M': 28,\n",
       "         '6.4M': 29,\n",
       "         '3.2M': 55,\n",
       "         '8.2M': 28,\n",
       "         '9.9M': 28,\n",
       "         '4.9M': 50,\n",
       "         '9.5M': 28,\n",
       "         '5.0M': 58,\n",
       "         '5.9M': 37,\n",
       "         '13M': 191,\n",
       "         '73M': 15,\n",
       "         '6.8M': 28,\n",
       "         '3.5M': 51,\n",
       "         '4.0M': 61,\n",
       "         '2.3M': 68,\n",
       "         '7.2M': 30,\n",
       "         '2.1M': 40,\n",
       "         '42M': 41,\n",
       "         '7.3M': 37,\n",
       "         '9.1M': 29,\n",
       "         '55M': 30,\n",
       "         '23k': 1,\n",
       "         '6.5M': 34,\n",
       "         '1.5M': 48,\n",
       "         '7.5M': 28,\n",
       "         '51M': 33,\n",
       "         '41M': 48,\n",
       "         '48M': 59,\n",
       "         '8.5M': 36,\n",
       "         '46M': 59,\n",
       "         '8.3M': 30,\n",
       "         '4.3M': 54,\n",
       "         '4.7M': 36,\n",
       "         '3.3M': 77,\n",
       "         '40M': 62,\n",
       "         '7.8M': 29,\n",
       "         '8.8M': 27,\n",
       "         '6.6M': 33,\n",
       "         '5.1M': 43,\n",
       "         '61M': 26,\n",
       "         '66M': 16,\n",
       "         '79k': 3,\n",
       "         '8.4M': 30,\n",
       "         '118k': 3,\n",
       "         '44M': 61,\n",
       "         '695k': 1,\n",
       "         '1.6M': 39,\n",
       "         '6.2M': 30,\n",
       "         '18k': 2,\n",
       "         '53M': 43,\n",
       "         '1.4M': 37,\n",
       "         '3.0M': 61,\n",
       "         '5.8M': 35,\n",
       "         '3.8M': 62,\n",
       "         '9.6M': 15,\n",
       "         '45M': 40,\n",
       "         '63M': 41,\n",
       "         '49M': 45,\n",
       "         '77M': 13,\n",
       "         '4.4M': 42,\n",
       "         '4.8M': 34,\n",
       "         '70M': 27,\n",
       "         '6.9M': 40,\n",
       "         '9.3M': 15,\n",
       "         '10.0M': 10,\n",
       "         '8.1M': 27,\n",
       "         '36M': 60,\n",
       "         '84M': 9,\n",
       "         '97M': 20,\n",
       "         '2.0M': 51,\n",
       "         '1.9M': 32,\n",
       "         '1.8M': 50,\n",
       "         '5.3M': 44,\n",
       "         '47M': 37,\n",
       "         '556k': 1,\n",
       "         '526k': 1,\n",
       "         '76M': 27,\n",
       "         '7.6M': 29,\n",
       "         '59M': 38,\n",
       "         '9.7M': 24,\n",
       "         '78M': 23,\n",
       "         '72M': 19,\n",
       "         '43M': 47,\n",
       "         '7.7M': 26,\n",
       "         '6.3M': 45,\n",
       "         '334k': 2,\n",
       "         '34M': 63,\n",
       "         '93M': 16,\n",
       "         '65M': 10,\n",
       "         '79M': 11,\n",
       "         '100M': 16,\n",
       "         '58M': 26,\n",
       "         '50M': 44,\n",
       "         '68M': 18,\n",
       "         '64M': 15,\n",
       "         '67M': 32,\n",
       "         '60M': 36,\n",
       "         '94M': 17,\n",
       "         '232k': 1,\n",
       "         '99M': 39,\n",
       "         '624k': 1,\n",
       "         '95M': 18,\n",
       "         '8.5k': 1,\n",
       "         '41k': 1,\n",
       "         '292k': 1,\n",
       "         '11k': 1,\n",
       "         '80M': 13,\n",
       "         '1.7M': 40,\n",
       "         '74M': 20,\n",
       "         '62M': 32,\n",
       "         '69M': 23,\n",
       "         '75M': 13,\n",
       "         '98M': 16,\n",
       "         '85M': 17,\n",
       "         '82M': 21,\n",
       "         '96M': 26,\n",
       "         '87M': 13,\n",
       "         '71M': 14,\n",
       "         '86M': 8,\n",
       "         '91M': 22,\n",
       "         '81M': 11,\n",
       "         '92M': 15,\n",
       "         '83M': 15,\n",
       "         '88M': 14,\n",
       "         '704k': 2,\n",
       "         '862k': 1,\n",
       "         '899k': 1,\n",
       "         '378k': 1,\n",
       "         '266k': 3,\n",
       "         '375k': 3,\n",
       "         '1.3M': 35,\n",
       "         '975k': 1,\n",
       "         '980k': 1,\n",
       "         '4.1M': 52,\n",
       "         '89M': 9,\n",
       "         '696k': 1,\n",
       "         '544k': 1,\n",
       "         '525k': 1,\n",
       "         '920k': 1,\n",
       "         '779k': 1,\n",
       "         '853k': 1,\n",
       "         '720k': 1,\n",
       "         '713k': 1,\n",
       "         '772k': 1,\n",
       "         '318k': 2,\n",
       "         '58k': 2,\n",
       "         '241k': 1,\n",
       "         '196k': 2,\n",
       "         '857k': 1,\n",
       "         '51k': 2,\n",
       "         '953k': 1,\n",
       "         '865k': 1,\n",
       "         '251k': 1,\n",
       "         '930k': 1,\n",
       "         '540k': 1,\n",
       "         '313k': 1,\n",
       "         '746k': 1,\n",
       "         '203k': 1,\n",
       "         '26k': 2,\n",
       "         '314k': 1,\n",
       "         '239k': 1,\n",
       "         '371k': 1,\n",
       "         '220k': 1,\n",
       "         '730k': 1,\n",
       "         '756k': 1,\n",
       "         '91k': 1,\n",
       "         '293k': 1,\n",
       "         '17k': 2,\n",
       "         '74k': 1,\n",
       "         '14k': 1,\n",
       "         '317k': 1,\n",
       "         '78k': 1,\n",
       "         '924k': 1,\n",
       "         '902k': 1,\n",
       "         '818k': 1,\n",
       "         '81k': 1,\n",
       "         '939k': 1,\n",
       "         '169k': 1,\n",
       "         '45k': 1,\n",
       "         '475k': 1,\n",
       "         '965k': 1,\n",
       "         '90M': 6,\n",
       "         '545k': 1,\n",
       "         '61k': 1,\n",
       "         '283k': 1,\n",
       "         '655k': 1,\n",
       "         '714k': 1,\n",
       "         '93k': 1,\n",
       "         '872k': 1,\n",
       "         '121k': 1,\n",
       "         '322k': 1,\n",
       "         '1.0M': 7,\n",
       "         '976k': 1,\n",
       "         '172k': 2,\n",
       "         '238k': 1,\n",
       "         '549k': 1,\n",
       "         '206k': 2,\n",
       "         '954k': 1,\n",
       "         '444k': 1,\n",
       "         '717k': 1,\n",
       "         '210k': 1,\n",
       "         '609k': 1,\n",
       "         '308k': 1,\n",
       "         '705k': 1,\n",
       "         '306k': 1,\n",
       "         '904k': 1,\n",
       "         '473k': 2,\n",
       "         '175k': 1,\n",
       "         '350k': 1,\n",
       "         '383k': 1,\n",
       "         '454k': 1,\n",
       "         '421k': 1,\n",
       "         '70k': 2,\n",
       "         '812k': 1,\n",
       "         '442k': 1,\n",
       "         '842k': 2,\n",
       "         '417k': 2,\n",
       "         '412k': 1,\n",
       "         '459k': 1,\n",
       "         '478k': 1,\n",
       "         '335k': 2,\n",
       "         '782k': 1,\n",
       "         '721k': 1,\n",
       "         '430k': 1,\n",
       "         '429k': 1,\n",
       "         '192k': 2,\n",
       "         '200k': 1,\n",
       "         '460k': 1,\n",
       "         '728k': 1,\n",
       "         '496k': 1,\n",
       "         '816k': 1,\n",
       "         '414k': 1,\n",
       "         '506k': 1,\n",
       "         '887k': 1,\n",
       "         '613k': 1,\n",
       "         '243k': 1,\n",
       "         '569k': 1,\n",
       "         '778k': 1,\n",
       "         '683k': 1,\n",
       "         '592k': 2,\n",
       "         '319k': 1,\n",
       "         '186k': 1,\n",
       "         '840k': 1,\n",
       "         '647k': 1,\n",
       "         '191k': 1,\n",
       "         '373k': 1,\n",
       "         '437k': 1,\n",
       "         '598k': 1,\n",
       "         '716k': 1,\n",
       "         '585k': 1,\n",
       "         '982k': 1,\n",
       "         '222k': 1,\n",
       "         '219k': 1,\n",
       "         '55k': 1,\n",
       "         '948k': 2,\n",
       "         '323k': 2,\n",
       "         '691k': 1,\n",
       "         '511k': 1,\n",
       "         '951k': 1,\n",
       "         '963k': 1,\n",
       "         '25k': 1,\n",
       "         '554k': 1,\n",
       "         '351k': 1,\n",
       "         '27k': 1,\n",
       "         '82k': 1,\n",
       "         '208k': 1,\n",
       "         '913k': 1,\n",
       "         '514k': 1,\n",
       "         '551k': 1,\n",
       "         '29k': 2,\n",
       "         '103k': 1,\n",
       "         '898k': 1,\n",
       "         '743k': 1,\n",
       "         '116k': 1,\n",
       "         '153k': 1,\n",
       "         '209k': 1,\n",
       "         '353k': 1,\n",
       "         '499k': 1,\n",
       "         '173k': 1,\n",
       "         '597k': 1,\n",
       "         '809k': 1,\n",
       "         '122k': 1,\n",
       "         '411k': 1,\n",
       "         '400k': 1,\n",
       "         '801k': 1,\n",
       "         '787k': 1,\n",
       "         '237k': 1,\n",
       "         '50k': 1,\n",
       "         '643k': 1,\n",
       "         '986k': 1,\n",
       "         '97k': 1,\n",
       "         '516k': 1,\n",
       "         '837k': 1,\n",
       "         '780k': 1,\n",
       "         '961k': 1,\n",
       "         '269k': 1,\n",
       "         '20k': 1,\n",
       "         '498k': 1,\n",
       "         '600k': 1,\n",
       "         '749k': 1,\n",
       "         '642k': 1,\n",
       "         '881k': 1,\n",
       "         '72k': 2,\n",
       "         '656k': 2,\n",
       "         '601k': 1,\n",
       "         '221k': 1,\n",
       "         '228k': 2,\n",
       "         '108k': 1,\n",
       "         '940k': 1,\n",
       "         '176k': 1,\n",
       "         '33k': 2,\n",
       "         '663k': 1,\n",
       "         '34k': 1,\n",
       "         '942k': 1,\n",
       "         '259k': 1,\n",
       "         '164k': 1,\n",
       "         '458k': 1,\n",
       "         '245k': 1,\n",
       "         '629k': 1,\n",
       "         '28k': 1,\n",
       "         '288k': 1,\n",
       "         '775k': 1,\n",
       "         '785k': 1,\n",
       "         '636k': 1,\n",
       "         '916k': 1,\n",
       "         '994k': 1,\n",
       "         '309k': 1,\n",
       "         '485k': 1,\n",
       "         '914k': 1,\n",
       "         '903k': 1,\n",
       "         '608k': 1,\n",
       "         '500k': 1,\n",
       "         '54k': 1,\n",
       "         '562k': 1,\n",
       "         '847k': 1,\n",
       "         '957k': 2,\n",
       "         '688k': 1,\n",
       "         '811k': 1,\n",
       "         '270k': 1,\n",
       "         '48k': 1,\n",
       "         '329k': 1,\n",
       "         '523k': 1,\n",
       "         '921k': 1,\n",
       "         '874k': 1,\n",
       "         '981k': 1,\n",
       "         '784k': 1,\n",
       "         '280k': 1,\n",
       "         '24k': 1,\n",
       "         '518k': 1,\n",
       "         '754k': 1,\n",
       "         '892k': 1,\n",
       "         '154k': 1,\n",
       "         '860k': 1,\n",
       "         '364k': 2,\n",
       "         '387k': 1,\n",
       "         '626k': 1,\n",
       "         '161k': 1,\n",
       "         '879k': 1,\n",
       "         '39k': 1,\n",
       "         '970k': 1,\n",
       "         '170k': 1,\n",
       "         '141k': 2,\n",
       "         '160k': 1,\n",
       "         '144k': 1,\n",
       "         '143k': 1,\n",
       "         '190k': 1,\n",
       "         '376k': 1,\n",
       "         '193k': 1,\n",
       "         '246k': 1,\n",
       "         '73k': 1,\n",
       "         '658k': 1,\n",
       "         '992k': 1,\n",
       "         '253k': 1,\n",
       "         '420k': 1,\n",
       "         '404k': 1,\n",
       "         '1,000+': 1,\n",
       "         '470k': 1,\n",
       "         '226k': 1,\n",
       "         '240k': 1,\n",
       "         '89k': 1,\n",
       "         '234k': 1,\n",
       "         '257k': 1,\n",
       "         '861k': 1,\n",
       "         '467k': 1,\n",
       "         '157k': 1,\n",
       "         '44k': 1,\n",
       "         '676k': 1,\n",
       "         '67k': 1,\n",
       "         '552k': 1,\n",
       "         '885k': 1,\n",
       "         '1020k': 1,\n",
       "         '582k': 1,\n",
       "         '619k': 1})"
      ]
     },
     "execution_count": 22,
     "metadata": {},
     "output_type": "execute_result"
    }
   ],
   "source": [
    "Counter(df['Size'])"
   ]
  },
  {
   "cell_type": "code",
   "execution_count": 23,
   "metadata": {},
   "outputs": [],
   "source": [
    "df['Size'][df['Size']=='Varies with device'] = '0'"
   ]
  },
  {
   "cell_type": "code",
   "execution_count": 5,
   "metadata": {},
   "outputs": [],
   "source": [
    "def change_size(size):\n",
    "    if 'M' in size:\n",
    "        x = size[:-1]\n",
    "        x = float(x)*1024*1024\n",
    "        return(x)\n",
    "    elif 'k' == size[-1:]:\n",
    "        x = size[:-1]\n",
    "        x = float(x)*1024\n",
    "        return(x)\n",
    "    else:\n",
    "        return size"
   ]
  },
  {
   "cell_type": "code",
   "execution_count": 6,
   "metadata": {},
   "outputs": [
    {
     "ename": "NameError",
     "evalue": "name 'st' is not defined",
     "output_type": "error",
     "traceback": [
      "\u001b[1;31m---------------------------------------------------------------------------\u001b[0m",
      "\u001b[1;31mNameError\u001b[0m                                 Traceback (most recent call last)",
      "\u001b[1;32m<ipython-input-6-c826a4944188>\u001b[0m in \u001b[0;36m<module>\u001b[1;34m()\u001b[0m\n\u001b[1;32m----> 1\u001b[1;33m \u001b[0mfloat\u001b[0m\u001b[1;33m(\u001b[0m\u001b[0mst\u001b[0m\u001b[1;33m[\u001b[0m\u001b[1;33m:\u001b[0m\u001b[1;33m-\u001b[0m\u001b[1;36m1\u001b[0m\u001b[1;33m]\u001b[0m\u001b[1;33m)\u001b[0m\u001b[1;33m*\u001b[0m\u001b[1;36m1024\u001b[0m\u001b[1;33m*\u001b[0m\u001b[1;36m1024\u001b[0m\u001b[1;33m\u001b[0m\u001b[0m\n\u001b[0m",
      "\u001b[1;31mNameError\u001b[0m: name 'st' is not defined"
     ]
    }
   ],
   "source": [
    "float(st[:-1])*1024*1024"
   ]
  },
  {
   "cell_type": "code",
   "execution_count": 12,
   "metadata": {},
   "outputs": [
    {
     "ename": "TypeError",
     "evalue": "argument of type 'float' is not iterable",
     "output_type": "error",
     "traceback": [
      "\u001b[1;31m---------------------------------------------------------------------------\u001b[0m",
      "\u001b[1;31mTypeError\u001b[0m                                 Traceback (most recent call last)",
      "\u001b[1;32m<ipython-input-12-b72b8b8fb8e2>\u001b[0m in \u001b[0;36m<module>\u001b[1;34m()\u001b[0m\n\u001b[1;32m----> 1\u001b[1;33m \u001b[0mdf\u001b[0m\u001b[1;33m[\u001b[0m\u001b[1;34m\"Size\"\u001b[0m\u001b[1;33m]\u001b[0m \u001b[1;33m=\u001b[0m \u001b[0mdf\u001b[0m\u001b[1;33m[\u001b[0m\u001b[1;34m\"Size\"\u001b[0m\u001b[1;33m]\u001b[0m\u001b[1;33m.\u001b[0m\u001b[0mmap\u001b[0m\u001b[1;33m(\u001b[0m\u001b[0mchange_size\u001b[0m\u001b[1;33m)\u001b[0m\u001b[1;33m\u001b[0m\u001b[0m\n\u001b[0m",
      "\u001b[1;32mC:\\ProgramData\\Anaconda3\\lib\\site-packages\\pandas\\core\\series.py\u001b[0m in \u001b[0;36mmap\u001b[1;34m(self, arg, na_action)\u001b[0m\n\u001b[0;32m   2994\u001b[0m         \"\"\"\n\u001b[0;32m   2995\u001b[0m         new_values = super(Series, self)._map_values(\n\u001b[1;32m-> 2996\u001b[1;33m             arg, na_action=na_action)\n\u001b[0m\u001b[0;32m   2997\u001b[0m         return self._constructor(new_values,\n\u001b[0;32m   2998\u001b[0m                                  index=self.index).__finalize__(self)\n",
      "\u001b[1;32mC:\\ProgramData\\Anaconda3\\lib\\site-packages\\pandas\\core\\base.py\u001b[0m in \u001b[0;36m_map_values\u001b[1;34m(self, mapper, na_action)\u001b[0m\n\u001b[0;32m   1002\u001b[0m \u001b[1;33m\u001b[0m\u001b[0m\n\u001b[0;32m   1003\u001b[0m         \u001b[1;31m# mapper is a function\u001b[0m\u001b[1;33m\u001b[0m\u001b[1;33m\u001b[0m\u001b[0m\n\u001b[1;32m-> 1004\u001b[1;33m         \u001b[0mnew_values\u001b[0m \u001b[1;33m=\u001b[0m \u001b[0mmap_f\u001b[0m\u001b[1;33m(\u001b[0m\u001b[0mvalues\u001b[0m\u001b[1;33m,\u001b[0m \u001b[0mmapper\u001b[0m\u001b[1;33m)\u001b[0m\u001b[1;33m\u001b[0m\u001b[0m\n\u001b[0m\u001b[0;32m   1005\u001b[0m \u001b[1;33m\u001b[0m\u001b[0m\n\u001b[0;32m   1006\u001b[0m         \u001b[1;32mreturn\u001b[0m \u001b[0mnew_values\u001b[0m\u001b[1;33m\u001b[0m\u001b[0m\n",
      "\u001b[1;32mpandas/_libs/src\\inference.pyx\u001b[0m in \u001b[0;36mpandas._libs.lib.map_infer\u001b[1;34m()\u001b[0m\n",
      "\u001b[1;32m<ipython-input-5-35c20db91bed>\u001b[0m in \u001b[0;36mchange_size\u001b[1;34m(size)\u001b[0m\n\u001b[0;32m      1\u001b[0m \u001b[1;32mdef\u001b[0m \u001b[0mchange_size\u001b[0m\u001b[1;33m(\u001b[0m\u001b[0msize\u001b[0m\u001b[1;33m)\u001b[0m\u001b[1;33m:\u001b[0m\u001b[1;33m\u001b[0m\u001b[0m\n\u001b[1;32m----> 2\u001b[1;33m     \u001b[1;32mif\u001b[0m \u001b[1;34m'M'\u001b[0m \u001b[1;32min\u001b[0m \u001b[0msize\u001b[0m\u001b[1;33m:\u001b[0m\u001b[1;33m\u001b[0m\u001b[0m\n\u001b[0m\u001b[0;32m      3\u001b[0m         \u001b[0mx\u001b[0m \u001b[1;33m=\u001b[0m \u001b[0msize\u001b[0m\u001b[1;33m[\u001b[0m\u001b[1;33m:\u001b[0m\u001b[1;33m-\u001b[0m\u001b[1;36m1\u001b[0m\u001b[1;33m]\u001b[0m\u001b[1;33m\u001b[0m\u001b[0m\n\u001b[0;32m      4\u001b[0m         \u001b[0mx\u001b[0m \u001b[1;33m=\u001b[0m \u001b[0mfloat\u001b[0m\u001b[1;33m(\u001b[0m\u001b[0mx\u001b[0m\u001b[1;33m)\u001b[0m\u001b[1;33m*\u001b[0m\u001b[1;36m1024\u001b[0m\u001b[1;33m*\u001b[0m\u001b[1;36m1024\u001b[0m\u001b[1;33m\u001b[0m\u001b[0m\n\u001b[0;32m      5\u001b[0m         \u001b[1;32mreturn\u001b[0m\u001b[1;33m(\u001b[0m\u001b[0mx\u001b[0m\u001b[1;33m)\u001b[0m\u001b[1;33m\u001b[0m\u001b[0m\n",
      "\u001b[1;31mTypeError\u001b[0m: argument of type 'float' is not iterable"
     ]
    }
   ],
   "source": [
    "df[\"Size\"] = df[\"Size\"].map(change_size)"
   ]
  },
  {
   "cell_type": "code",
   "execution_count": 26,
   "metadata": {},
   "outputs": [
    {
     "ename": "ValueError",
     "evalue": "Unable to parse string \"1,000+\" at position 10472",
     "output_type": "error",
     "traceback": [
      "\u001b[1;31m---------------------------------------------------------------------------\u001b[0m",
      "\u001b[1;31mValueError\u001b[0m                                Traceback (most recent call last)",
      "\u001b[1;32mpandas/_libs/src\\inference.pyx\u001b[0m in \u001b[0;36mpandas._libs.lib.maybe_convert_numeric\u001b[1;34m()\u001b[0m\n",
      "\u001b[1;31mValueError\u001b[0m: Unable to parse string \"1,000+\"",
      "\nDuring handling of the above exception, another exception occurred:\n",
      "\u001b[1;31mValueError\u001b[0m                                Traceback (most recent call last)",
      "\u001b[1;32m<ipython-input-26-4a3cb3f1ca35>\u001b[0m in \u001b[0;36m<module>\u001b[1;34m()\u001b[0m\n\u001b[1;32m----> 1\u001b[1;33m \u001b[0mdf\u001b[0m\u001b[1;33m[\u001b[0m\u001b[1;34m'Size'\u001b[0m\u001b[1;33m]\u001b[0m \u001b[1;33m=\u001b[0m \u001b[0mpd\u001b[0m\u001b[1;33m.\u001b[0m\u001b[0mto_numeric\u001b[0m\u001b[1;33m(\u001b[0m\u001b[0mdf\u001b[0m\u001b[1;33m[\u001b[0m\u001b[1;34m'Size'\u001b[0m\u001b[1;33m]\u001b[0m\u001b[1;33m)\u001b[0m\u001b[1;33m\u001b[0m\u001b[0m\n\u001b[0m",
      "\u001b[1;32mC:\\ProgramData\\Anaconda3\\lib\\site-packages\\pandas\\core\\tools\\numeric.py\u001b[0m in \u001b[0;36mto_numeric\u001b[1;34m(arg, errors, downcast)\u001b[0m\n\u001b[0;32m    131\u001b[0m             \u001b[0mcoerce_numeric\u001b[0m \u001b[1;33m=\u001b[0m \u001b[1;32mFalse\u001b[0m \u001b[1;32mif\u001b[0m \u001b[0merrors\u001b[0m \u001b[1;32min\u001b[0m \u001b[1;33m(\u001b[0m\u001b[1;34m'ignore'\u001b[0m\u001b[1;33m,\u001b[0m \u001b[1;34m'raise'\u001b[0m\u001b[1;33m)\u001b[0m \u001b[1;32melse\u001b[0m \u001b[1;32mTrue\u001b[0m\u001b[1;33m\u001b[0m\u001b[0m\n\u001b[0;32m    132\u001b[0m             values = lib.maybe_convert_numeric(values, set(),\n\u001b[1;32m--> 133\u001b[1;33m                                                coerce_numeric=coerce_numeric)\n\u001b[0m\u001b[0;32m    134\u001b[0m \u001b[1;33m\u001b[0m\u001b[0m\n\u001b[0;32m    135\u001b[0m     \u001b[1;32mexcept\u001b[0m \u001b[0mException\u001b[0m\u001b[1;33m:\u001b[0m\u001b[1;33m\u001b[0m\u001b[0m\n",
      "\u001b[1;32mpandas/_libs/src\\inference.pyx\u001b[0m in \u001b[0;36mpandas._libs.lib.maybe_convert_numeric\u001b[1;34m()\u001b[0m\n",
      "\u001b[1;31mValueError\u001b[0m: Unable to parse string \"1,000+\" at position 10472"
     ]
    }
   ],
   "source": [
    "df['Size'] = pd.to_numeric(df['Size'])"
   ]
  },
  {
   "cell_type": "code",
   "execution_count": 27,
   "metadata": {},
   "outputs": [],
   "source": [
    "df['Size'].iloc[10472] = 1000"
   ]
  },
  {
   "cell_type": "code",
   "execution_count": 28,
   "metadata": {},
   "outputs": [],
   "source": [
    "df['Size'] = pd.to_numeric(df['Size'])"
   ]
  },
  {
   "cell_type": "code",
   "execution_count": 29,
   "metadata": {},
   "outputs": [
    {
     "data": {
      "text/plain": [
       "0"
      ]
     },
     "execution_count": 29,
     "metadata": {},
     "output_type": "execute_result"
    }
   ],
   "source": [
    "df['Size'].isnull().sum()"
   ]
  },
  {
   "cell_type": "markdown",
   "metadata": {},
   "source": [
    "### Content Rating"
   ]
  },
  {
   "cell_type": "code",
   "execution_count": 30,
   "metadata": {},
   "outputs": [
    {
     "data": {
      "text/plain": [
       "[10472]"
      ]
     },
     "execution_count": 30,
     "metadata": {},
     "output_type": "execute_result"
    }
   ],
   "source": [
    "df[df['Content Rating'].isnull()].index.tolist()"
   ]
  },
  {
   "cell_type": "code",
   "execution_count": 31,
   "metadata": {},
   "outputs": [
    {
     "data": {
      "text/plain": [
       "Counter({'Everyone': 8714,\n",
       "         'Teen': 1208,\n",
       "         'Everyone 10+': 414,\n",
       "         'Mature 17+': 499,\n",
       "         'Adults only 18+': 3,\n",
       "         'Unrated': 2,\n",
       "         nan: 1})"
      ]
     },
     "execution_count": 31,
     "metadata": {},
     "output_type": "execute_result"
    }
   ],
   "source": [
    "Counter(df['Content Rating'])"
   ]
  },
  {
   "cell_type": "code",
   "execution_count": 32,
   "metadata": {},
   "outputs": [],
   "source": [
    "df['Content Rating'].iloc[df[df['Content Rating'].isnull()].index.tolist()]='Everyone'\n",
    "#  df['Content Rating'].iloc[10472]='Everyone'"
   ]
  },
  {
   "cell_type": "markdown",
   "metadata": {},
   "source": [
    "### Rating"
   ]
  },
  {
   "cell_type": "code",
   "execution_count": 33,
   "metadata": {},
   "outputs": [
    {
     "data": {
      "text/plain": [
       "Counter({10000.0: 1054,\n",
       "         500000.0: 539,\n",
       "         5000000.0: 752,\n",
       "         50000000.0: 289,\n",
       "         100000.0: 1169,\n",
       "         50000.0: 479,\n",
       "         1000000.0: 1579,\n",
       "         10000000.0: 1252,\n",
       "         5000.0: 477,\n",
       "         100000000.0: 409,\n",
       "         1000000000.0: 58,\n",
       "         1000.0: 907,\n",
       "         500000000.0: 72,\n",
       "         50.0: 205,\n",
       "         100.0: 719,\n",
       "         500.0: 330,\n",
       "         10.0: 386,\n",
       "         1.0: 67,\n",
       "         5.0: 82,\n",
       "         0.0: 15,\n",
       "         nan: 1})"
      ]
     },
     "execution_count": 33,
     "metadata": {},
     "output_type": "execute_result"
    }
   ],
   "source": [
    "Counter(df['Installs'])"
   ]
  },
  {
   "cell_type": "code",
   "execution_count": 34,
   "metadata": {},
   "outputs": [],
   "source": [
    "ratings_null = df[(df['Installs']<=5000) & (df['Rating'].isnull())].index.tolist()"
   ]
  },
  {
   "cell_type": "code",
   "execution_count": 35,
   "metadata": {},
   "outputs": [
    {
     "data": {
      "text/plain": [
       "1396"
      ]
     },
     "execution_count": 35,
     "metadata": {},
     "output_type": "execute_result"
    }
   ],
   "source": [
    "len(ratings_null)"
   ]
  },
  {
   "cell_type": "code",
   "execution_count": 36,
   "metadata": {},
   "outputs": [
    {
     "data": {
      "text/plain": [
       "1474"
      ]
     },
     "execution_count": 36,
     "metadata": {},
     "output_type": "execute_result"
    }
   ],
   "source": [
    "df['Rating'].isnull().sum()"
   ]
  },
  {
   "cell_type": "code",
   "execution_count": 37,
   "metadata": {},
   "outputs": [],
   "source": [
    "mean = df[df['Installs']<=5000]['Rating'].mean()"
   ]
  },
  {
   "cell_type": "code",
   "execution_count": 38,
   "metadata": {},
   "outputs": [],
   "source": [
    "df['Rating'].iloc[ratings_null] = mean"
   ]
  },
  {
   "cell_type": "code",
   "execution_count": 39,
   "metadata": {},
   "outputs": [
    {
     "data": {
      "text/plain": [
       "78"
      ]
     },
     "execution_count": 39,
     "metadata": {},
     "output_type": "execute_result"
    }
   ],
   "source": [
    "df['Rating'].isnull().sum()"
   ]
  },
  {
   "cell_type": "code",
   "execution_count": 40,
   "metadata": {},
   "outputs": [],
   "source": [
    "ratings_null1 = df[(df['Installs']>5000) & (df['Rating'].isnull())].index.tolist()"
   ]
  },
  {
   "cell_type": "code",
   "execution_count": 41,
   "metadata": {},
   "outputs": [],
   "source": [
    "mean1 = df[df['Installs']>5000]['Rating'].mean()"
   ]
  },
  {
   "cell_type": "code",
   "execution_count": 42,
   "metadata": {},
   "outputs": [],
   "source": [
    "df['Rating'].iloc[ratings_null1] = mean1"
   ]
  },
  {
   "cell_type": "code",
   "execution_count": 43,
   "metadata": {},
   "outputs": [
    {
     "data": {
      "text/plain": [
       "0"
      ]
     },
     "execution_count": 43,
     "metadata": {},
     "output_type": "execute_result"
    }
   ],
   "source": [
    "df['Rating'].isnull().sum()"
   ]
  },
  {
   "cell_type": "markdown",
   "metadata": {},
   "source": [
    "### 1. What is the download rate by categories?"
   ]
  },
  {
   "cell_type": "code",
   "execution_count": 44,
   "metadata": {},
   "outputs": [
    {
     "data": {
      "text/plain": [
       "<matplotlib.axes._subplots.AxesSubplot at 0x22c7989cf28>"
      ]
     },
     "execution_count": 44,
     "metadata": {},
     "output_type": "execute_result"
    },
    {
     "data": {
      "image/png": "[encoded data removed]",
      "text/plain": [
       "<Figure size 720x360 with 1 Axes>"
      ]
     },
     "metadata": {},
     "output_type": "display_data"
    }
   ],
   "source": [
    "plt.figure(figsize=(10,5))\n",
    "plt.xlabel('Category')\n",
    "plt.ylabel('app_rate')\n",
    "df.groupby('Category')['Installs'].sum().sort_values(ascending=False).plot(kind='bar')"
   ]
  },
  {
   "cell_type": "code",
   "execution_count": 45,
   "metadata": {},
   "outputs": [],
   "source": [
    "dd = df.groupby('Category')['Installs'].sum().sort_values(ascending=False)"
   ]
  },
  {
   "cell_type": "code",
   "execution_count": 46,
   "metadata": {},
   "outputs": [
    {
     "data": {
      "text/plain": [
       "(array([ 0,  1,  2,  3,  4,  5,  6,  7,  8,  9, 10, 11, 12, 13, 14, 15, 16,\n",
       "        17, 18, 19, 20, 21, 22, 23, 24, 25, 26, 27, 28, 29, 30, 31, 32, 33]),\n",
       " <a list of 34 Text xticklabel objects>)"
      ]
     },
     "execution_count": 46,
     "metadata": {},
     "output_type": "execute_result"
    },
    {
     "data": {
      "image/png": "[encoded data removed]",
      "text/plain": [
       "<Figure size 720x360 with 1 Axes>"
      ]
     },
     "metadata": {},
     "output_type": "display_data"
    }
   ],
   "source": [
    "plt.figure(figsize=(10,5))\n",
    "sns.barplot(x=dd.index,y=dd)\n",
    "plt.xticks(rotation=90)"
   ]
  },
  {
   "cell_type": "markdown",
   "metadata": {},
   "source": [
    "### 2. What is the name of the 15 most downloaded applications?"
   ]
  },
  {
   "cell_type": "code",
   "execution_count": 47,
   "metadata": {},
   "outputs": [
    {
     "name": "stdout",
     "output_type": "stream",
     "text": [
      "App\n",
      "Subway Surfers    6.000000e+09\n",
      "Instagram         4.000000e+09\n",
      "Google Drive      4.000000e+09\n",
      "Hangouts          4.000000e+09\n",
      "Google Photos     4.000000e+09\n",
      "Name: Installs, dtype: float64\n"
     ]
    }
   ],
   "source": [
    "df_new = df.groupby('App')['Installs'].sum().sort_values(ascending=False)\n",
    "print(df_new.head())"
   ]
  },
  {
   "cell_type": "code",
   "execution_count": 48,
   "metadata": {},
   "outputs": [
    {
     "data": {
      "image/png": "[encoded data removed]",
      "text/plain": [
       "<Figure size 720x360 with 1 Axes>"
      ]
     },
     "metadata": {},
     "output_type": "display_data"
    }
   ],
   "source": [
    "plt.figure(figsize=(10,5))\n",
    "sns.barplot(x=df_new.head(15).index, y=df_new.head(15))\n",
    "plt.xticks(rotation=90)\n",
    "plt.xlabel('Applications')\n",
    "plt.ylabel('Installs')\n",
    "plt.title('Most downloaded applications')\n",
    "plt.show()"
   ]
  },
  {
   "cell_type": "code",
   "execution_count": 49,
   "metadata": {},
   "outputs": [
    {
     "data": {
      "text/plain": [
       "(9660,)"
      ]
     },
     "execution_count": 49,
     "metadata": {},
     "output_type": "execute_result"
    }
   ],
   "source": [
    "df_new.shape"
   ]
  },
  {
   "cell_type": "markdown",
   "metadata": {},
   "source": [
    "### 3. What is the download rate for paid applications?"
   ]
  },
  {
   "cell_type": "code",
   "execution_count": 50,
   "metadata": {},
   "outputs": [
    {
     "data": {
      "text/plain": [
       "Free    10041\n",
       "Paid      800\n",
       "Name: Type, dtype: int64"
      ]
     },
     "execution_count": 50,
     "metadata": {},
     "output_type": "execute_result"
    }
   ],
   "source": [
    "df['Type'].value_counts()"
   ]
  },
  {
   "cell_type": "code",
   "execution_count": 51,
   "metadata": {},
   "outputs": [
    {
     "data": {
      "image/png": "[encoded data removed]",
      "text/plain": [
       "<Figure size 360x360 with 1 Axes>"
      ]
     },
     "metadata": {},
     "output_type": "display_data"
    }
   ],
   "source": [
    "plt.figure(figsize=(5,5))\n",
    "\n",
    "df.groupby('Type')['Installs'].mean().sort_values(ascending=False).plot(kind='bar')\n",
    "\n",
    "plt.xlabel('type_list')\n",
    "plt.ylabel('type_rate')\n",
    "plt.title('download rate by price')\n",
    "plt.show()"
   ]
  },
  {
   "cell_type": "code",
   "execution_count": 52,
   "metadata": {},
   "outputs": [],
   "source": [
    "# sns.countplot(x='Type', data=df)"
   ]
  },
  {
   "cell_type": "code",
   "execution_count": 53,
   "metadata": {},
   "outputs": [
    {
     "data": {
      "image/png": "[encoded data removed]",
      "text/plain": [
       "<Figure size 720x360 with 1 Axes>"
      ]
     },
     "metadata": {},
     "output_type": "display_data"
    }
   ],
   "source": [
    "plt.figure(figsize=(10,5))\n",
    "\n",
    "df[df['Type']=='Paid'].groupby('App')['Installs'].mean().sort_values(ascending=False).head(15).plot(kind='bar')\n",
    "\n",
    "plt.xlabel('type_list')\n",
    "plt.ylabel('type_rate')\n",
    "plt.title('download rate by price')\n",
    "plt.show()"
   ]
  },
  {
   "cell_type": "markdown",
   "metadata": {},
   "source": [
    "### 4. Sort by category."
   ]
  },
  {
   "cell_type": "code",
   "execution_count": 56,
   "metadata": {},
   "outputs": [
    {
     "data": {
      "text/plain": [
       "<matplotlib.axes._subplots.AxesSubplot at 0x22c7b6eb128>"
      ]
     },
     "execution_count": 56,
     "metadata": {},
     "output_type": "execute_result"
    },
    {
     "data": {
      "image/png": "[encoded data removed]",
      "text/plain": [
       "<Figure size 1080x360 with 1 Axes>"
      ]
     },
     "metadata": {},
     "output_type": "display_data"
    }
   ],
   "source": [
    "plt.figure(figsize=(15,5))\n",
    "df['Category'].value_counts().plot(kind = 'bar')"
   ]
  },
  {
   "cell_type": "markdown",
   "metadata": {},
   "source": [
    "### 5. What is the download rate and user rating by category?"
   ]
  },
  {
   "cell_type": "code",
   "execution_count": 93,
   "metadata": {},
   "outputs": [],
   "source": [
    "df['Category'].iloc[df[df['Category']==0.0].index]='0.0'"
   ]
  },
  {
   "cell_type": "code",
   "execution_count": 99,
   "metadata": {},
   "outputs": [
    {
     "data": {
      "image/png": "[encoded data removed]",
      "text/plain": [
       "<Figure size 720x360 with 2 Axes>"
      ]
     },
     "metadata": {},
     "output_type": "display_data"
    },
    {
     "data": {
      "text/plain": [
       "<Figure size 720x360 with 0 Axes>"
      ]
     },
     "metadata": {},
     "output_type": "display_data"
    }
   ],
   "source": [
    "category  = df ['Category'].unique().tolist()\n",
    "ratings   = df.groupby('Category')['Rating'].mean().tolist()\n",
    "installs   = df.groupby('Category')['Installs'].mean().tolist()\n",
    "\n",
    "f, axarr = plt.subplots(2, sharex=True, figsize=(10,5))\n",
    "\n",
    "axarr[0].bar(category, ratings, label = 'Download rate by Category', color='k',  linewidth=3)\n",
    "axarr[0].set_title('Download rate by Category')\n",
    "\n",
    "axarr[1].plot(category, installs, label = 'User ratings by category', color='r', marker='o', linewidth=3)\n",
    "axarr[1].set_title('User ratings by category')\n",
    "\n",
    "# plt.xticks(monthList)\n",
    "plt.xlabel('Category')\n",
    "# plt.ylabel('Sales units in number')\n",
    "plt.xticks(rotation=90)\n",
    "# plt.tight_layout()\n",
    "plt.figure(figsize=(10,5))\n",
    "plt.show()"
   ]
  },
  {
   "cell_type": "code",
   "execution_count": 79,
   "metadata": {},
   "outputs": [
    {
     "data": {
      "text/html": [
       "<div>\n",
       "<style scoped>\n",
       "    .dataframe tbody tr th:only-of-type {\n",
       "        vertical-align: middle;\n",
       "    }\n",
       "\n",
       "    .dataframe tbody tr th {\n",
       "        vertical-align: top;\n",
       "    }\n",
       "\n",
       "    .dataframe thead th {\n",
       "        text-align: right;\n",
       "    }\n",
       "</style>\n",
       "<table border=\"1\" class=\"dataframe\">\n",
       "  <thead>\n",
       "    <tr style=\"text-align: right;\">\n",
       "      <th></th>\n",
       "      <th>Installs</th>\n",
       "      <th>Rating</th>\n",
       "    </tr>\n",
       "    <tr>\n",
       "      <th>Category</th>\n",
       "      <th></th>\n",
       "      <th></th>\n",
       "    </tr>\n",
       "  </thead>\n",
       "  <tbody>\n",
       "    <tr>\n",
       "      <th>0.0</th>\n",
       "      <td>NaN</td>\n",
       "      <td>19.000000</td>\n",
       "    </tr>\n",
       "    <tr>\n",
       "      <th>ART_AND_DESIGN</th>\n",
       "      <td>1.912894e+06</td>\n",
       "      <td>4.349442</td>\n",
       "    </tr>\n",
       "    <tr>\n",
       "      <th>AUTO_AND_VEHICLES</th>\n",
       "      <td>6.250613e+05</td>\n",
       "      <td>4.185675</td>\n",
       "    </tr>\n",
       "    <tr>\n",
       "      <th>BEAUTY</th>\n",
       "      <td>5.131519e+05</td>\n",
       "      <td>4.258196</td>\n",
       "    </tr>\n",
       "    <tr>\n",
       "      <th>BOOKS_AND_REFERENCE</th>\n",
       "      <td>8.318050e+06</td>\n",
       "      <td>4.303217</td>\n",
       "    </tr>\n",
       "  </tbody>\n",
       "</table>\n",
       "</div>"
      ],
      "text/plain": [
       "                         Installs     Rating\n",
       "Category                                    \n",
       "0.0                           NaN  19.000000\n",
       "ART_AND_DESIGN       1.912894e+06   4.349442\n",
       "AUTO_AND_VEHICLES    6.250613e+05   4.185675\n",
       "BEAUTY               5.131519e+05   4.258196\n",
       "BOOKS_AND_REFERENCE  8.318050e+06   4.303217"
      ]
     },
     "execution_count": 79,
     "metadata": {},
     "output_type": "execute_result"
    }
   ],
   "source": [
    "df1 = df.groupby('Category')['Installs','Rating'].mean()\n",
    "df1.head()"
   ]
  },
  {
   "cell_type": "code",
   "execution_count": 82,
   "metadata": {},
   "outputs": [
    {
     "data": {
      "text/plain": [
       "(array([ 0,  1,  2,  3,  4,  5,  6,  7,  8,  9, 10, 11, 12, 13, 14, 15, 16,\n",
       "        17, 18, 19, 20, 21, 22, 23, 24, 25, 26, 27, 28, 29, 30, 31, 32, 33]),\n",
       " <a list of 34 Text xticklabel objects>)"
      ]
     },
     "execution_count": 82,
     "metadata": {},
     "output_type": "execute_result"
    },
    {
     "data": {
      "image/png": "[encoded data removed]",
      "text/plain": [
       "<Figure size 720x360 with 1 Axes>"
      ]
     },
     "metadata": {},
     "output_type": "display_data"
    }
   ],
   "source": [
    "plt.figure(figsize = (10,5))\n",
    "\n",
    "sns.barplot(x=df1.index, y=df1['Rating'],color='red',alpha = 0.7)\n",
    "plt.xticks(rotation= 90)"
   ]
  },
  {
   "cell_type": "code",
   "execution_count": 83,
   "metadata": {},
   "outputs": [
    {
     "data": {
      "text/plain": [
       "(array([ 0,  1,  2,  3,  4,  5,  6,  7,  8,  9, 10, 11, 12, 13, 14, 15, 16,\n",
       "        17, 18, 19, 20, 21, 22, 23, 24, 25, 26, 27, 28, 29, 30, 31, 32, 33]),\n",
       " <a list of 34 Text xticklabel objects>)"
      ]
     },
     "execution_count": 83,
     "metadata": {},
     "output_type": "execute_result"
    },
    {
     "data": {
      "image/png": "[encoded data removed]",
      "text/plain": [
       "<Figure size 720x360 with 1 Axes>"
      ]
     },
     "metadata": {},
     "output_type": "display_data"
    }
   ],
   "source": [
    "plt.figure(figsize = (10,5))\n",
    "sns.barplot(x=df1.index, y=df1['Installs'],color='purple',alpha = 0.7)\n",
    "plt.xticks(rotation= 90)"
   ]
  },
  {
   "cell_type": "code",
   "execution_count": 101,
   "metadata": {},
   "outputs": [
    {
     "data": {
      "text/plain": [
       "App               0\n",
       "Category          0\n",
       "Rating            0\n",
       "Reviews           0\n",
       "Size              0\n",
       "Installs          1\n",
       "Type              0\n",
       "Price             0\n",
       "Content Rating    0\n",
       "Genres            0\n",
       "Last Updated      0\n",
       "Current Ver       8\n",
       "Android Ver       3\n",
       "dtype: int64"
      ]
     },
     "execution_count": 101,
     "metadata": {},
     "output_type": "execute_result"
    }
   ],
   "source": [
    "df.isnull().sum()"
   ]
  },
  {
   "cell_type": "code",
   "execution_count": 102,
   "metadata": {},
   "outputs": [
    {
     "data": {
      "text/html": [
       "<div>\n",
       "<style scoped>\n",
       "    .dataframe tbody tr th:only-of-type {\n",
       "        vertical-align: middle;\n",
       "    }\n",
       "\n",
       "    .dataframe tbody tr th {\n",
       "        vertical-align: top;\n",
       "    }\n",
       "\n",
       "    .dataframe thead th {\n",
       "        text-align: right;\n",
       "    }\n",
       "</style>\n",
       "<table border=\"1\" class=\"dataframe\">\n",
       "  <thead>\n",
       "    <tr style=\"text-align: right;\">\n",
       "      <th></th>\n",
       "      <th>App</th>\n",
       "      <th>Category</th>\n",
       "      <th>Rating</th>\n",
       "      <th>Reviews</th>\n",
       "      <th>Size</th>\n",
       "      <th>Installs</th>\n",
       "      <th>Type</th>\n",
       "      <th>Price</th>\n",
       "      <th>Content Rating</th>\n",
       "      <th>Genres</th>\n",
       "      <th>Last Updated</th>\n",
       "      <th>Current Ver</th>\n",
       "      <th>Android Ver</th>\n",
       "    </tr>\n",
       "  </thead>\n",
       "  <tbody>\n",
       "    <tr>\n",
       "      <th>10472</th>\n",
       "      <td>Life Made WI-Fi Touchscreen Photo Frame</td>\n",
       "      <td>0</td>\n",
       "      <td>19.0</td>\n",
       "      <td>3.0M</td>\n",
       "      <td>1000.0</td>\n",
       "      <td>NaN</td>\n",
       "      <td>Free</td>\n",
       "      <td>Everyone</td>\n",
       "      <td>Everyone</td>\n",
       "      <td>February 11, 2018</td>\n",
       "      <td>1.0.19</td>\n",
       "      <td>4.0 and up</td>\n",
       "      <td>NaN</td>\n",
       "    </tr>\n",
       "  </tbody>\n",
       "</table>\n",
       "</div>"
      ],
      "text/plain": [
       "                                           App Category  Rating Reviews  \\\n",
       "10472  Life Made WI-Fi Touchscreen Photo Frame        0    19.0    3.0M   \n",
       "\n",
       "         Size  Installs  Type     Price Content Rating             Genres  \\\n",
       "10472  1000.0       NaN  Free  Everyone       Everyone  February 11, 2018   \n",
       "\n",
       "      Last Updated Current Ver Android Ver  \n",
       "10472       1.0.19  4.0 and up         NaN  "
      ]
     },
     "execution_count": 102,
     "metadata": {},
     "output_type": "execute_result"
    }
   ],
   "source": [
    "df[df['Installs'].isnull()]"
   ]
  },
  {
   "cell_type": "code",
   "execution_count": 103,
   "metadata": {},
   "outputs": [],
   "source": [
    "df['Installs'].iloc[10472] = df['Installs'].mean()"
   ]
  },
  {
   "cell_type": "code",
   "execution_count": 104,
   "metadata": {},
   "outputs": [
    {
     "data": {
      "text/plain": [
       "App               Life Made WI-Fi Touchscreen Photo Frame\n",
       "Category                                                0\n",
       "Rating                                                 19\n",
       "Reviews                                              3.0M\n",
       "Size                                                 1000\n",
       "Installs                                      1.54643e+07\n",
       "Type                                                 Free\n",
       "Price                                            Everyone\n",
       "Content Rating                                   Everyone\n",
       "Genres                                  February 11, 2018\n",
       "Last Updated                                       1.0.19\n",
       "Current Ver                                    4.0 and up\n",
       "Android Ver                                           NaN\n",
       "Name: 10472, dtype: object"
      ]
     },
     "execution_count": 104,
     "metadata": {},
     "output_type": "execute_result"
    }
   ],
   "source": [
    "df.iloc[10472]"
   ]
  },
  {
   "cell_type": "code",
   "execution_count": 105,
   "metadata": {},
   "outputs": [],
   "source": [
    "import pickle\n",
    "\n",
    "fh = open(\"df.pkl\", \"bw\")\n",
    "pickle.dump(df, fh)\n",
    "fh.close()"
   ]
  },
  {
   "cell_type": "code",
   "execution_count": 106,
   "metadata": {},
   "outputs": [],
   "source": [
    "import pickle\n",
    "f = open('df.pkl',\"rb\")\n",
    "df = pickle.load(f)\n",
    "f.close()"
   ]
  },
  {
   "cell_type": "code",
   "execution_count": 107,
   "metadata": {},
   "outputs": [
    {
     "data": {
      "text/html": [
       "<div>\n",
       "<style scoped>\n",
       "    .dataframe tbody tr th:only-of-type {\n",
       "        vertical-align: middle;\n",
       "    }\n",
       "\n",
       "    .dataframe tbody tr th {\n",
       "        vertical-align: top;\n",
       "    }\n",
       "\n",
       "    .dataframe thead th {\n",
       "        text-align: right;\n",
       "    }\n",
       "</style>\n",
       "<table border=\"1\" class=\"dataframe\">\n",
       "  <thead>\n",
       "    <tr style=\"text-align: right;\">\n",
       "      <th></th>\n",
       "      <th>App</th>\n",
       "      <th>Category</th>\n",
       "      <th>Rating</th>\n",
       "      <th>Reviews</th>\n",
       "      <th>Size</th>\n",
       "      <th>Installs</th>\n",
       "      <th>Type</th>\n",
       "      <th>Price</th>\n",
       "      <th>Content Rating</th>\n",
       "      <th>Genres</th>\n",
       "      <th>Last Updated</th>\n",
       "      <th>Current Ver</th>\n",
       "      <th>Android Ver</th>\n",
       "    </tr>\n",
       "  </thead>\n",
       "  <tbody>\n",
       "    <tr>\n",
       "      <th>0</th>\n",
       "      <td>Photo Editor &amp; Candy Camera &amp; Grid &amp; ScrapBook</td>\n",
       "      <td>ART_AND_DESIGN</td>\n",
       "      <td>4.1</td>\n",
       "      <td>159</td>\n",
       "      <td>19000000.0</td>\n",
       "      <td>10000.0</td>\n",
       "      <td>Free</td>\n",
       "      <td>0</td>\n",
       "      <td>Everyone</td>\n",
       "      <td>Art &amp; Design</td>\n",
       "      <td>January 7, 2018</td>\n",
       "      <td>1.0.0</td>\n",
       "      <td>4.0.3 and up</td>\n",
       "    </tr>\n",
       "    <tr>\n",
       "      <th>1</th>\n",
       "      <td>Coloring book moana</td>\n",
       "      <td>ART_AND_DESIGN</td>\n",
       "      <td>3.9</td>\n",
       "      <td>967</td>\n",
       "      <td>14000000.0</td>\n",
       "      <td>500000.0</td>\n",
       "      <td>Free</td>\n",
       "      <td>0</td>\n",
       "      <td>Everyone</td>\n",
       "      <td>Art &amp; Design;Pretend Play</td>\n",
       "      <td>January 15, 2018</td>\n",
       "      <td>2.0.0</td>\n",
       "      <td>4.0.3 and up</td>\n",
       "    </tr>\n",
       "    <tr>\n",
       "      <th>2</th>\n",
       "      <td>U Launcher Lite – FREE Live Cool Themes, Hide ...</td>\n",
       "      <td>ART_AND_DESIGN</td>\n",
       "      <td>4.7</td>\n",
       "      <td>87510</td>\n",
       "      <td>8700000.0</td>\n",
       "      <td>5000000.0</td>\n",
       "      <td>Free</td>\n",
       "      <td>0</td>\n",
       "      <td>Everyone</td>\n",
       "      <td>Art &amp; Design</td>\n",
       "      <td>August 1, 2018</td>\n",
       "      <td>1.2.4</td>\n",
       "      <td>4.0.3 and up</td>\n",
       "    </tr>\n",
       "    <tr>\n",
       "      <th>3</th>\n",
       "      <td>Sketch - Draw &amp; Paint</td>\n",
       "      <td>ART_AND_DESIGN</td>\n",
       "      <td>4.5</td>\n",
       "      <td>215644</td>\n",
       "      <td>25000000.0</td>\n",
       "      <td>50000000.0</td>\n",
       "      <td>Free</td>\n",
       "      <td>0</td>\n",
       "      <td>Teen</td>\n",
       "      <td>Art &amp; Design</td>\n",
       "      <td>June 8, 2018</td>\n",
       "      <td>Varies with device</td>\n",
       "      <td>4.2 and up</td>\n",
       "    </tr>\n",
       "    <tr>\n",
       "      <th>4</th>\n",
       "      <td>Pixel Draw - Number Art Coloring Book</td>\n",
       "      <td>ART_AND_DESIGN</td>\n",
       "      <td>4.3</td>\n",
       "      <td>967</td>\n",
       "      <td>2800000.0</td>\n",
       "      <td>100000.0</td>\n",
       "      <td>Free</td>\n",
       "      <td>0</td>\n",
       "      <td>Everyone</td>\n",
       "      <td>Art &amp; Design;Creativity</td>\n",
       "      <td>June 20, 2018</td>\n",
       "      <td>1.1</td>\n",
       "      <td>4.4 and up</td>\n",
       "    </tr>\n",
       "  </tbody>\n",
       "</table>\n",
       "</div>"
      ],
      "text/plain": [
       "                                                 App        Category  Rating  \\\n",
       "0     Photo Editor & Candy Camera & Grid & ScrapBook  ART_AND_DESIGN     4.1   \n",
       "1                                Coloring book moana  ART_AND_DESIGN     3.9   \n",
       "2  U Launcher Lite – FREE Live Cool Themes, Hide ...  ART_AND_DESIGN     4.7   \n",
       "3                              Sketch - Draw & Paint  ART_AND_DESIGN     4.5   \n",
       "4              Pixel Draw - Number Art Coloring Book  ART_AND_DESIGN     4.3   \n",
       "\n",
       "  Reviews        Size    Installs  Type Price Content Rating  \\\n",
       "0     159  19000000.0     10000.0  Free     0       Everyone   \n",
       "1     967  14000000.0    500000.0  Free     0       Everyone   \n",
       "2   87510   8700000.0   5000000.0  Free     0       Everyone   \n",
       "3  215644  25000000.0  50000000.0  Free     0           Teen   \n",
       "4     967   2800000.0    100000.0  Free     0       Everyone   \n",
       "\n",
       "                      Genres      Last Updated         Current Ver  \\\n",
       "0               Art & Design   January 7, 2018               1.0.0   \n",
       "1  Art & Design;Pretend Play  January 15, 2018               2.0.0   \n",
       "2               Art & Design    August 1, 2018               1.2.4   \n",
       "3               Art & Design      June 8, 2018  Varies with device   \n",
       "4    Art & Design;Creativity     June 20, 2018                 1.1   \n",
       "\n",
       "    Android Ver  \n",
       "0  4.0.3 and up  \n",
       "1  4.0.3 and up  \n",
       "2  4.0.3 and up  \n",
       "3    4.2 and up  \n",
       "4    4.4 and up  "
      ]
     },
     "execution_count": 107,
     "metadata": {},
     "output_type": "execute_result"
    }
   ],
   "source": [
    "df.head()"
   ]
  },
  {
   "cell_type": "code",
   "execution_count": null,
   "metadata": {},
   "outputs": [],
   "source": []
  }
 ],
 "metadata": {
  "kernelspec": {
   "display_name": "Python 3",
   "language": "python",
   "name": "python3"
  },
  "language_info": {
   "codemirror_mode": {
    "name": "ipython",
    "version": 3
   },
   "file_extension": ".py",
   "mimetype": "text/x-python",
   "name": "python",
   "nbconvert_exporter": "python",
   "pygments_lexer": "ipython3",
   "version": "3.7.3"
  }
 },
 "nbformat": 4,
 "nbformat_minor": 2
}
